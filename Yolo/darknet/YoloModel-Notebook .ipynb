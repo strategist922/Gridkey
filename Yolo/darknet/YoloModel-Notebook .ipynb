{
 "cells": [
  {
   "cell_type": "code",
   "execution_count": 7,
   "metadata": {
    "collapsed": true
   },
   "outputs": [],
   "source": [
    "from ctypes import *\n",
    "import math\n",
    "import random\n",
    "import cv2"
   ]
  },
  {
   "cell_type": "code",
   "execution_count": 8,
   "metadata": {
    "collapsed": true
   },
   "outputs": [],
   "source": [
    "pathYolo = \"/media/feliz/Safira/GitHub/Gridkey/Yolo/darknet/\"\n",
    "pathImage = pathYolo +  \"data/dog.jpg\"\n",
    "pathVedio = \"/media/feliz/Safira/GitHub/Gridkey/Car-Detection/Testing/Videos/3.avi\"\n"
   ]
  },
  {
   "cell_type": "code",
   "execution_count": 9,
   "metadata": {
    "collapsed": true
   },
   "outputs": [],
   "source": [
    "def sample(probs):\n",
    "    s = sum(probs)\n",
    "    probs = [a/s for a in probs]\n",
    "    r = random.uniform(0, 1)\n",
    "    for i in range(len(probs)):\n",
    "        r = r - probs[i]\n",
    "        if r <= 0:\n",
    "            return i\n",
    "    return len(probs)-1\n",
    "\n",
    "def c_array(ctype, values):\n",
    "    return (ctype * len(values))(*values)\n",
    "\n",
    "class NODE(Structure):\n",
    "    pass\n",
    "\n",
    "NODE._fields_ = [(\"val\", c_void_p),\n",
    "                (\"next\", POINTER(NODE)),\n",
    "                (\"prev\", POINTER(NODE))]  \n",
    "# https://docs.python.org/2/library/ctypes.html#incomplete-types\n",
    "\n",
    "class LIST(Structure):\n",
    "     _fields_ = [(\"size\", c_int),\n",
    "                (\"front\", POINTER(NODE)),\n",
    "                (\"back\", POINTER(NODE))] \n",
    "\n",
    "class BOX(Structure):\n",
    "    _fields_ = [(\"x\", c_float),\n",
    "                (\"y\", c_float),\n",
    "                (\"w\", c_float),\n",
    "                (\"h\", c_float)]\n",
    "\n",
    "class IMAGE(Structure):\n",
    "    _fields_ = [(\"w\", c_int),\n",
    "                (\"h\", c_int),\n",
    "                (\"c\", c_int),\n",
    "                (\"data\", POINTER(c_float))]\n",
    "\n",
    "class METADATA(Structure):\n",
    "    _fields_ = [(\"classes\", c_int),\n",
    "                (\"names\", POINTER(c_char_p))]\n"
   ]
  },
  {
   "cell_type": "code",
   "execution_count": 10,
   "metadata": {
    "collapsed": true
   },
   "outputs": [],
   "source": [
    "class Darknet():\n",
    "    #     Shared Variables\n",
    "    lib = CDLL(pathYolo + \"libdarknet.so\", RTLD_GLOBAL)\n",
    "#     lib.network_width.argtypes = [c_void_p]\n",
    "#     lib.network_width.restype = c_int\n",
    "#     lib.network_height.argtypes = [c_void_p]\n",
    "#     lib.network_height.restype = c_int\n",
    "\n",
    "#     predict = lib.network_predict_p\n",
    "#     predict.argtypes = [c_void_p, POINTER(c_float)]\n",
    "#     predict.restype = POINTER(c_float)\n",
    "\n",
    "#     detect = lib.network_predict_p\n",
    "#     detect.argtypes = [c_void_p, IMAGE, c_float, c_float, c_float, POINTER(BOX), POINTER(POINTER(c_float))]\n",
    "\n",
    "#     reset_rnn = lib.reset_rnn\n",
    "#     reset_rnn.argtypes = [c_void_p]\n",
    "\n",
    "#     letterbox_image = lib.letterbox_image\n",
    "#     letterbox_image.argtypes = [IMAGE, c_int, c_int]\n",
    "#     letterbox_image.restype = IMAGE\n",
    "\n",
    "    #   Common Variables\n",
    "    load_net = lib.load_network_p\n",
    "    load_net.argtypes = [c_char_p, c_char_p, c_int]\n",
    "    load_net.restype = c_void_p\n",
    "#   network *load_network_p(char *cfg, char *weights, int clear)\n",
    "\n",
    "    load_meta = lib.get_metadata\n",
    "    lib.get_metadata.argtypes = [c_char_p]\n",
    "    lib.get_metadata.restype = METADATA\n",
    "#   metadata get_metadata(char *file)\n",
    "\n",
    "    load_image = lib.load_image_color\n",
    "    load_image.argtypes = [c_char_p, c_int, c_int]\n",
    "    load_image.restype = IMAGE\n",
    "#   image load_image_color(char *filename, int w, int h)\n",
    "\n",
    "\n",
    "    #     Classify\n",
    "    predict_image = lib.network_predict_image\n",
    "    predict_image.argtypes = [c_void_p, IMAGE]\n",
    "    predict_image.restype = POINTER(c_float)\n",
    "\n",
    "\n",
    "    #     Network/Border Detect\n",
    "    make_boxes = lib.make_boxes\n",
    "    make_boxes.argtypes = [c_void_p]\n",
    "    make_boxes.restype = POINTER(BOX)\n",
    "#   box *make_boxes(network *net)\n",
    "\n",
    "    make_probs = lib.make_probs\n",
    "    make_probs.argtypes = [c_void_p]\n",
    "    make_probs.restype = POINTER(POINTER(c_float))\n",
    "#   float **make_probs(network *net)\n",
    "    \n",
    "    num_boxes = lib.num_boxes\n",
    "    num_boxes.argtypes = [c_void_p]\n",
    "    num_boxes.restype = c_int\n",
    "#   int num_boxes(network *net)\n",
    "    \n",
    "    free_image = lib.free_image\n",
    "    free_image.argtypes = [IMAGE]   \n",
    "#   void free_image(image m)\n",
    "    \n",
    "    free_ptrs = lib.free_ptrs\n",
    "    free_ptrs.argtypes = [POINTER(c_void_p), c_int]\n",
    "#   void free_ptrs(void **ptrs, int n)\n",
    "\n",
    "    network_detect = lib.network_detect\n",
    "    network_detect.argtypes = [c_void_p, IMAGE, c_float, c_float, c_float, POINTER(BOX), POINTER(POINTER(c_float))]\n",
    "#   void network_detect(network *net, image im, float thresh, float hier_thresh, float nms, box *boxes, float **probs)\n",
    "    \n",
    "    #    Detector For Vedio (Only considering Arguments for vedio)\n",
    "    read_data_cfg = lib.read_data_cfg\n",
    "    read_data_cfg.argtypes = [c_char_p]\n",
    "    read_data_cfg.restype = POINTER(LIST)\n",
    "    \n",
    "    option_find_int = lib.option_find_int\n",
    "    option_find_int.argtypes = [POINTER(LIST), c_char_p, c_int]\n",
    "    option_find_int.restype = c_int\n",
    "    \n",
    "    option_find_str = lib.option_find_str\n",
    "    option_find_str.argtypes = [POINTER(LIST), c_char_p, c_char_p]\n",
    "    option_find_str.restype = c_char_p\n",
    "    \n",
    "    get_labels = lib.get_labels\n",
    "    get_labels.argtypes = [c_char_p]\n",
    "    get_labels.restype = POINTER(c_char_p)\n",
    "    \n",
    "    demo = lib.demo\n",
    "    demo.argtypes = [c_char_p,  c_char_p, c_float, c_int, c_char_p, POINTER(c_char_p), c_int, c_int, c_char_p, c_int, c_float, c_int, c_int, c_int, c_int] \n",
    "#   void demo(char *cfgfile, char *weightfile, float thresh, int cam_index, const char *filename, char **names, int classes, int delay, char *prefix, int avg_frames, float hier, int w, int h, int frames, int fullscreen)\n",
    "    \n",
    "    \n",
    "    def __init__(self):\n",
    "        pass\n",
    "    \n",
    "    def runDetector(self, cfgdata, cfg, weights = '0', filename = '0', prefix = '0',thresh = 0.24, hier_thresh = 0.5, camIndex = 0, frameSkip = 0, avg = 3, fps = 0, height = 0, width = 0 , fullscreen = 0, clear = 0):\n",
    "        \"\"\"\n",
    "        This function converted from run_detector of darknet. Works for Video only\n",
    "        Converts each frame to .jpg Image file after reading from vedio. \n",
    "        Needs more work to get it generate the complete thing as vedio.\n",
    "        The jpg files are created in the directory where this notebook is present \n",
    "        \"\"\"\n",
    "        if weights == '0':\n",
    "            print \"Weights not specified\"\n",
    "            return 1\n",
    "        if filename == '0':\n",
    "            print \"Input File to process not specified\"\n",
    "            return 1\n",
    "        options = self.read_data_cfg(cfgdata)\n",
    "        classes = self.option_find_int(options, \"classes\", 20)\n",
    "        name_list = self.option_find_str(options, \"names\", pathYolo + \"data/name.list\")\n",
    "        names = self.get_labels(name_list)\n",
    "        self.demo(cfg,weights,thresh, camIndex, filename, names, classes, frameSkip, prefix, avg, hier_thresh, width, height, fps, fullscreen)\n",
    "        \n",
    "        \n",
    "    \n",
    "    def classify(self,net, meta, im):\n",
    "        out = self.predict_image(net, im)\n",
    "        res = []\n",
    "        for i in range(meta.classes):\n",
    "            res.append((meta.names[i], out[i]))\n",
    "        res = sorted(res, key=lambda x: -x[1])\n",
    "        return res\n",
    "    \n",
    "\n",
    "    def borderDetect(self,net, meta, image, thresh=.5, hier_thresh=.5, nms=.45):\n",
    "        \"\"\"\n",
    "        This function gives the class, probability and its boundary co-ordinates \n",
    "        for the detected object in a Picture\n",
    "        \"\"\"\n",
    "        im = self.load_image(image, 0, 0)\n",
    "        boxes = self.make_boxes(net)\n",
    "        probs = self.make_probs(net)\n",
    "        num =   self.num_boxes(net)\n",
    "        self.network_detect(net, im, thresh, hier_thresh, nms, boxes, probs)\n",
    "        res = []\n",
    "        for j in range(num):\n",
    "            for i in range(meta.classes):\n",
    "                if probs[j][i] > 0:\n",
    "                    res.append((meta.names[i], probs[j][i], (boxes[j].x, boxes[j].y, boxes[j].w, boxes[j].h)))\n",
    "        res = sorted(res, key=lambda x: -x[1])\n",
    "        self.free_image(im)\n",
    "        self.free_ptrs(cast(probs, POINTER(c_void_p)), num)\n",
    "        return res  \n"
   ]
  },
  {
   "cell_type": "code",
   "execution_count": 11,
   "metadata": {},
   "outputs": [
    {
     "ename": "AttributeError",
     "evalue": "'LP_c_char_p' object has no attribute 'value'",
     "output_type": "error",
     "traceback": [
      "\u001b[0;31m---------------------------------------------------------------------------\u001b[0m",
      "\u001b[0;31mAttributeError\u001b[0m                            Traceback (most recent call last)",
      "\u001b[0;32m<ipython-input-11-e48d991164c1>\u001b[0m in \u001b[0;36m<module>\u001b[0;34m()\u001b[0m\n\u001b[1;32m     19\u001b[0m \u001b[0;34m\u001b[0m\u001b[0m\n\u001b[1;32m     20\u001b[0m     \u001b[0;31m#    Detector Vedio\u001b[0m\u001b[0;34m\u001b[0m\u001b[0;34m\u001b[0m\u001b[0m\n\u001b[0;32m---> 21\u001b[0;31m     \u001b[0md\u001b[0m\u001b[0;34m.\u001b[0m\u001b[0mrunDetector\u001b[0m\u001b[0;34m(\u001b[0m\u001b[0mcfgdata\u001b[0m\u001b[0;34m,\u001b[0m\u001b[0mcfg\u001b[0m\u001b[0;34m,\u001b[0m\u001b[0mweights\u001b[0m\u001b[0;34m,\u001b[0m\u001b[0mpathVedio\u001b[0m\u001b[0;34m)\u001b[0m\u001b[0;34m\u001b[0m\u001b[0m\n\u001b[0m",
      "\u001b[0;32m<ipython-input-10-735fd187c96f>\u001b[0m in \u001b[0;36mrunDetector\u001b[0;34m(self, cfgdata, cfg, weights, filename, prefix, thresh, hier_thresh, camIndex, frameSkip, avg, fps, height, width, fullscreen, clear)\u001b[0m\n\u001b[1;32m    113\u001b[0m         \u001b[0mnames\u001b[0m \u001b[0;34m=\u001b[0m \u001b[0mself\u001b[0m\u001b[0;34m.\u001b[0m\u001b[0mget_labels\u001b[0m\u001b[0;34m(\u001b[0m\u001b[0mname_list\u001b[0m\u001b[0;34m)\u001b[0m\u001b[0;34m\u001b[0m\u001b[0m\n\u001b[1;32m    114\u001b[0m \u001b[0;34m\u001b[0m\u001b[0m\n\u001b[0;32m--> 115\u001b[0;31m         \u001b[0;32mprint\u001b[0m \u001b[0mnames\u001b[0m\u001b[0;34m.\u001b[0m\u001b[0mvalue\u001b[0m\u001b[0;34m\u001b[0m\u001b[0m\n\u001b[0m\u001b[1;32m    116\u001b[0m \u001b[0;31m#         self.demo(cfg,weights,thresh, camIndex, filename, names, classes, frameSkip, prefix, avg, hier_thresh, width, height, fps, fullscreen)\u001b[0m\u001b[0;34m\u001b[0m\u001b[0;34m\u001b[0m\u001b[0m\n\u001b[1;32m    117\u001b[0m \u001b[0;34m\u001b[0m\u001b[0m\n",
      "\u001b[0;31mAttributeError\u001b[0m: 'LP_c_char_p' object has no attribute 'value'"
     ]
    }
   ],
   "source": [
    "if __name__ == \"__main__\":\n",
    "    #    TINY YOLO \n",
    "    cfgdata = pathYolo +  \"cfg/voc.data\"\n",
    "    cfg = pathYolo + \"cfg/tiny-yolo-voc.cfg\"\n",
    "    weights = pathYolo + \"weights/tiny-yolo-voc.weights\"\n",
    "    \n",
    "#     YOLO \n",
    "#     cfgdata = pathYolo +  \"cfg/coco.data\"\n",
    "#     cfg = pathYolo + \"cfg/yolo.cfg\"\n",
    "#     weights = pathYolo + \"weights/yolo.weights\"\n",
    "    \n",
    "    d = Darknet()\n",
    "\n",
    "#     Network/Boundary Detection for Objects\n",
    "#     net = d.load_net(cfg,weights, 0)\n",
    "#     meta = d.load_meta(cfgdata)\n",
    "#     r = d.borderDetect(net, meta, pathImage)\n",
    "#     print r\n",
    "\n",
    "    #    Detector Vedio \n",
    "    d.runDetector(cfgdata,cfg,weights,pathVedio)"
   ]
  },
  {
   "cell_type": "code",
   "execution_count": 4,
   "metadata": {},
   "outputs": [
    {
     "data": {
      "text/plain": [
       "-1"
      ]
     },
     "execution_count": 4,
     "metadata": {},
     "output_type": "execute_result"
    }
   ],
   "source": [
    "# cv2.startWindowThread()\n",
    "# img = cv2.imread(pathImage)\n",
    "# # cv2.rectangle(img,(int(226.77825927734375),int(376.65716552734375+289.3421325683594)),(int(226.77825927734375+189.18458557128906),int(376.65716552734375)),(0,255,0),3)\n",
    "# cv2.imshow(\"Image\",img)\n",
    "# cv2.waitKey(27)\n"
   ]
  },
  {
   "cell_type": "code",
   "execution_count": 5,
   "metadata": {
    "collapsed": true
   },
   "outputs": [],
   "source": [
    "# cv2.waitKey(0)\n",
    "# cv2.destroyAllWindows()"
   ]
  },
  {
   "cell_type": "code",
   "execution_count": null,
   "metadata": {
    "collapsed": true
   },
   "outputs": [],
   "source": []
  }
 ],
 "metadata": {
  "kernelspec": {
   "display_name": "Python 2",
   "language": "python",
   "name": "python2"
  },
  "language_info": {
   "codemirror_mode": {
    "name": "ipython",
    "version": 2
   },
   "file_extension": ".py",
   "mimetype": "text/x-python",
   "name": "python",
   "nbconvert_exporter": "python",
   "pygments_lexer": "ipython2",
   "version": "2.7.12"
  }
 },
 "nbformat": 4,
 "nbformat_minor": 2
}
